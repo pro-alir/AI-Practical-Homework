{
 "cells": [
  {
   "cell_type": "markdown",
   "metadata": {},
   "source": [
    "<img src='http://www-scf.usc.edu/~ghasemig/images/sharif.png' alt=\"SUT logo\" width=300 height=300 align=left class=\"saturate\" >\n",
    "\n",
    "<br>\n",
    "<font>\n",
    "<div dir=ltr align=center>\n",
    "<font color=0F5298 size=7>\n",
    "    Artificial Intelligence <br>\n",
    "<font color=2565AE size=5>\n",
    "    Computer Engineering Department <br>\n",
    "    Fall 2023<br>\n",
    "<font color=3C99D size=5>\n",
    "    Practical Assignment 1 - Search <br>\n",
    "<font color=696880 size=4>\n",
    "    Reza Soumi, Rouzbeh Pirayadi, Amir Mohammad Izadi\n",
    "\n",
    "____"
   ]
  },
  {
   "cell_type": "markdown",
   "metadata": {},
   "source": [
    "# Personal Data"
   ]
  },
  {
   "cell_type": "code",
   "execution_count": 5,
   "metadata": {},
   "outputs": [],
   "source": [
    "# Set your student number\n",
    "student_number = ''\n",
    "Name = 'Ali'\n",
    "Last_Name = 'Rahimi'"
   ]
  },
  {
   "cell_type": "markdown",
   "metadata": {},
   "source": [
    "# Rules\n",
    "- Make sure that all of your cells can be run perfectly. "
   ]
  },
  {
   "cell_type": "markdown",
   "metadata": {
    "id": "Wu2gddB9nNQS"
   },
   "source": [
    "## Libraries"
   ]
  },
  {
   "cell_type": "code",
   "execution_count": 6,
   "metadata": {},
   "outputs": [
    {
     "name": "stdout",
     "output_type": "stream",
     "text": [
      "pygame 2.5.2 (SDL 2.28.3, Python 3.8.8)\n",
      "Hello from the pygame community. https://www.pygame.org/contribute.html\n"
     ]
    }
   ],
   "source": [
    "import pygame, time, csv\n",
    "import numpy as np\n",
    "from time import sleep\n",
    "import heapq\n",
    "from IPython.display import HTML"
   ]
  },
  {
   "cell_type": "markdown",
   "metadata": {
    "id": "T5e96dYinNQU"
   },
   "source": [
    "# Uninformed & Informed Search (100 Points)"
   ]
  },
  {
   "cell_type": "markdown",
   "metadata": {
    "id": "JW24WwoXnNQU"
   },
   "source": [
    "<font size=4>\n",
    "Author: Reza Soumi\n",
    "\t\t\t<br/>\n",
    "                <font color=red>\n",
    "Please run all the cells.\n",
    "     </font>\n",
    "</font>\n",
    "                <br/>\n",
    "    </div>"
   ]
  },
  {
   "cell_type": "markdown",
   "metadata": {},
   "source": [
    "## Problem Definition"
   ]
  },
  {
   "cell_type": "markdown",
   "metadata": {
    "id": "taUY19uXnfCd"
   },
   "source": [
    "In This Problem, We want to investigate Maze Problem with the focus on implementing IDS and A-Star algorithm to solve it. \n",
    "\n",
    "The concept of the **Digital Twin** was first introduced in 1960 during NASA's Apollo project. In this project, many simulation engines was created in the ground where sensory data from the spacecraft was sent to simulation devices. The model would then update itself with this data and send response or action commands back to the spacecraft using advanced telecommunication protocols. This concept has recently gained popularity.\n",
    "\n",
    "If you are interested in learning more about digital twin in the Apollo NASA project, you can read this [link](https://blogs.sw.siemens.com/simcenter/apollo-13-the-first-digital-twin/) which explains how these systems helped astronauts return home safely. Additionally, there is a [TEDx](https://www.ted.com/talks/karen_willcox_how_digital_twins_could_help_us_predict_the_future?language=en) talk dedicated to this concept that you may find interesting."
   ]
  },
  {
   "cell_type": "markdown",
   "metadata": {
    "id": "VCHWcZOhn8_z"
   },
   "source": [
    "Now, let's consider a scenario where we have launched a simple spacecraft into space without any IoT devices. Unfortunately, our robot has become stuck in a maze. The starting position is at the top left corner and the destination is at the bottom right corner, as shown in the picture below."
   ]
  },
  {
   "cell_type": "markdown",
   "metadata": {},
   "source": [
    "<!-- ![Sample Image](Pics/map.PNG) -->\n",
    "<div style=\"text-align:center\">\n",
    "  <img src=\"Pics/map.PNG\" alt=\"alt text\" style=\"width:50%;\"/>\n",
    "</div>"
   ]
  },
  {
   "cell_type": "markdown",
   "metadata": {
    "id": "4d9C3ZzJovsK"
   },
   "source": [
    "To solve this problem, we need to implement an intelligent digital twin for the spacecraft. This digital twin will gather information from the spacecraft and determine which action to take - up, left, down, or right. However, we cannot explore the entire map at once and can only take one step forward at a time."
   ]
  },
  {
   "cell_type": "markdown",
   "metadata": {
    "id": "sr7-GT5tnNQW"
   },
   "source": [
    "## Code"
   ]
  },
  {
   "cell_type": "markdown",
   "metadata": {
    "id": "4GU_Byyuo0ml"
   },
   "source": [
    "You can use the following data structures, and feel free to use any other data structures as needed, but these should suffice."
   ]
  },
  {
   "cell_type": "code",
   "execution_count": 7,
   "metadata": {
    "id": "o0EfPKyIIHpW"
   },
   "outputs": [],
   "source": [
    "###########################################\n",
    "###### no need to change any thing ########\n",
    "###########################################\n",
    "\n",
    "class Node:\n",
    "    def __init__(self, pos, parent, cost=None):\n",
    "        self.x = pos[0]\n",
    "        self.y = pos[1]\n",
    "        self.parent = parent\n",
    "        self.cost = cost\n",
    "\n",
    "    def position(self):\n",
    "        return (self.x, self.y)\n",
    "    \n",
    "    def n_cost(self):\n",
    "        return self.cost\n",
    "\n",
    "class Queue:\n",
    "    def __init__(self):\n",
    "        self.list = []\n",
    "\n",
    "    def push(self,item):\n",
    "        self.list.insert(0,item)\n",
    "\n",
    "    def pop(self):\n",
    "        return self.list.pop()\n",
    "\n",
    "    def isEmpty(self):\n",
    "        return len(self.list) == 0\n",
    "\n",
    "class PriorityQueue:\n",
    "    \"\"\" O(1) access to the lowest-priority item \"\"\"\n",
    "    def  __init__(self):\n",
    "        self.heap = []\n",
    "        self.count = 0\n",
    "\n",
    "    def push(self, item, priority):\n",
    "        entry = (priority, self.count, item)\n",
    "        heapq.heappush(self.heap, entry)\n",
    "        self.count += 1\n",
    "\n",
    "    def pop(self):\n",
    "        (_, _, item) = heapq.heappop(self.heap)\n",
    "        return item\n",
    "\n",
    "    def isEmpty(self):\n",
    "        return len(self.heap) == 0\n",
    "\n",
    "    def update(self, item, priority):\n",
    "        # If item already in priority queue with higher priority, update its priority and rebuild the heap.\n",
    "        for index, (p, c, i) in enumerate(self.heap):\n",
    "            if i == item:\n",
    "                if p <= priority:\n",
    "                    break\n",
    "                del self.heap[index]\n",
    "                self.heap.append((priority, c, item))\n",
    "                heapq.heapify(self.heap)\n",
    "                break\n",
    "        else:\n",
    "            self.push(item, priority)\n",
    "\n",
    "class Stack:\n",
    "    def __init__(self):\n",
    "        self.list = []\n",
    "\n",
    "    def push(self,item):\n",
    "        self.list.append(item)\n",
    "\n",
    "    def pop(self):\n",
    "        return self.list.pop()\n",
    "\n",
    "    def isEmpty(self):\n",
    "        return len(self.list) == 0"
   ]
  },
  {
   "cell_type": "markdown",
   "metadata": {},
   "source": [
    "The code below takes a CSV file's path as the map address. In this CSV file, a value of 1 represents a passable block where the robot can navigate, while a value of 0 represents an impassable wall where the robot cannot go. There's no need to be concerned about Digital Twins at this point; we will implement them later."
   ]
  },
  {
   "cell_type": "code",
   "execution_count": 8,
   "metadata": {},
   "outputs": [],
   "source": [
    "###########################################\n",
    "###### no need to change any thing ########\n",
    "###########################################\n",
    "\n",
    "def solve_maze(map_address, algorithm):\n",
    "    grid = np.genfromtxt(map_address, delimiter=',', dtype=int)\n",
    "    num_rows, num_columns = len(grid), len(grid[0])\n",
    "    empty_block_count = np.count_nonzero(grid == 1)\n",
    "\n",
    "    # Define start & goal positions\n",
    "    start_pos = (0,0)\n",
    "    goal_pos = (num_rows-1, num_columns-1)\n",
    "\n",
    "    grid[0, 0] = 2\n",
    "    grid[-1, -1] = 3\n",
    "\n",
    "    grid_dim = (num_rows-1, num_columns-1)\n",
    "\n",
    "    black, white, green, red, grey, blue, magenta = (0,0,0), (255, 255, 255), (50,205,50), (255,99,71), (211,211,211), (153,255,255), (255,0,255)\n",
    "    idx_to_color = [black, white, green, red, blue, magenta]\n",
    "\n",
    "    height = 15\n",
    "    width = height\n",
    "    margin = 1\n",
    "\n",
    "    pygame.init()\n",
    "\n",
    "    WINDOW_SIZE = [660, 660]\n",
    "    screen = pygame.display.set_mode(WINDOW_SIZE)\n",
    "\n",
    "    pygame.display.set_caption(f\"{algorithm} Pathfinder. Solving: {map_address}\")\n",
    "\n",
    "    done = False\n",
    "    run = False\n",
    "    close = False\n",
    "\n",
    "    clock = pygame.time.Clock()\n",
    "\n",
    "    digital_twin = None\n",
    "\n",
    "    if algorithm == \"BFS\":\n",
    "        digital_twin = BFS_Digital_Twin(start_pos=start_pos, goal_pos=goal_pos, grid_dim=grid_dim)\n",
    "    elif algorithm == \"DFS\":\n",
    "        digital_twin = DFS_Digital_Twin(start_pos=start_pos, goal_pos=goal_pos, grid_dim=grid_dim)\n",
    "    elif algorithm == \"IDS\":\n",
    "        digital_twin = IDS_Digital_Twin(start_pos=start_pos, goal_pos=goal_pos, grid_dim=grid_dim)\n",
    "    elif algorithm == \"A_Star\":\n",
    "        digital_twin = A_Star_Digital_Twin(start_pos=start_pos, goal_pos=goal_pos, grid_dim=grid_dim)\n",
    "    else:\n",
    "        return None\n",
    "    \n",
    "    while not done:\n",
    "        for event in pygame.event.get():\n",
    "            if event.type == pygame.QUIT:\n",
    "                done = True\n",
    "\n",
    "            elif event.type == pygame.KEYDOWN:\n",
    "                run = True\n",
    "                start_t0 = time.time()\n",
    "\n",
    "        screen.fill(grey)\n",
    "\n",
    "        for row in range(num_rows):\n",
    "            for column in range(num_columns):\n",
    "                color = idx_to_color[grid[row, column]]\n",
    "                pygame.draw.rect(screen, color, [(margin + width) * column + margin, (margin + height) * row + margin, width, height])\n",
    "\n",
    "        clock.tick(60)\n",
    "        pygame.display.flip()\n",
    "\n",
    "        if run == True:\n",
    "            sleep(0.01)\n",
    "            solution, done, grid = digital_twin.update(grid=grid)\n",
    "\n",
    "        if done == True:\n",
    "            print(f\"Total empty block numbers: {empty_block_count}\")\n",
    "            print(f\"Explored block numbers: {np.count_nonzero(grid == 4)}\")\n",
    "            for pos in solution:\n",
    "                grid[pos[0], pos[1]] = 5\n",
    "\n",
    "            screen.fill(grey)\n",
    "\n",
    "            for row in range(num_rows):\n",
    "                for column in range(num_columns):\n",
    "                    color = idx_to_color[grid[row, column]]\n",
    "                    pygame.draw.rect(screen, color, [(margin + width) * column + margin, (margin + height) * row + margin, width, height])\n",
    "\n",
    "            clock.tick(60)\n",
    "            pygame.display.flip()\n",
    "\n",
    "    print(f\"Your maze solved with {algorithm} algorithm.\")\n",
    "    print(f\"--- finished {time.time()-start_t0:.3f} s---\")\n",
    "    while not close:\n",
    "        for event in pygame.event.get():\n",
    "            if event.type == pygame.QUIT:\n",
    "                close = True\n",
    "\n",
    "            elif event.type == pygame.KEYDOWN:\n",
    "                close = True\n",
    "    pygame.quit()"
   ]
  },
  {
   "cell_type": "markdown",
   "metadata": {},
   "source": [
    "Below is an implementation of our digital twin using the Depth-First Search (DFS) algorithm. Take a moment to explore how it functions."
   ]
  },
  {
   "cell_type": "code",
   "execution_count": 4,
   "metadata": {
    "id": "N_Yr37xG4COX"
   },
   "outputs": [],
   "source": [
    "###########################################\n",
    "###### no need to change any thing ########\n",
    "###########################################\n",
    "\n",
    "class DFS_Digital_Twin:\n",
    "    def __init__(self, start_pos, goal_pos, grid_dim):\n",
    "        self.start_pos = start_pos\n",
    "        self.goal_pos = goal_pos\n",
    "        self.grid_dim = grid_dim\n",
    "        self.stack = Stack()\n",
    "        self.stack.push(Node(pos=start_pos, parent=None))\n",
    "\n",
    "    def get_successors(self, x, y):\n",
    "        return [(x+1, y), (x-1, y), (x, y+1), (x, y-1)]\n",
    "\n",
    "    def is_valid_cell(self, pos):\n",
    "        return 0 <= pos[0] <= self.grid_dim[0] and 0 <= pos[1] <= self.grid_dim[1]\n",
    "\n",
    "    def backtrack_solution(self, curr_node):\n",
    "        return self._backtrack(curr_node)\n",
    "\n",
    "    def _backtrack(self, curr_node):\n",
    "        return [] if curr_node.parent is None else self._backtrack(curr_node.parent) + [curr_node.position()]\n",
    "\n",
    "    def update(self, grid):\n",
    "        curr_state = self.stack.pop()\n",
    "        x, y = curr_state.position()\n",
    "        done = False\n",
    "        solution_path = []\n",
    "\n",
    "        for step in self.get_successors(x, y):\n",
    "            if self.is_valid_cell(step) and grid[step[0], step[1]] in [1, 3]: # 1: empty cell has not explored yet, 3: goal cell\n",
    "                self.stack.push(Node(pos=step, parent=curr_state))\n",
    "\n",
    "                if step == self.goal_pos:\n",
    "                    done = True\n",
    "                    solution_path = self.backtrack_solution(curr_state)\n",
    "                    break\n",
    "            \n",
    "            grid[x, y] = 4 # visited\n",
    "\n",
    "        return solution_path, done, grid"
   ]
  },
  {
   "cell_type": "markdown",
   "metadata": {},
   "source": [
    "You can run the code below to see how our exploration works (it is recommended to run it on your local machine instead of Colab)."
   ]
  },
  {
   "cell_type": "code",
   "execution_count": 9,
   "metadata": {
    "id": "OhFWaWoH4EFQ"
   },
   "outputs": [
    {
     "name": "stdout",
     "output_type": "stream",
     "text": [
      "Total empty block numbers: 881\n",
      "Explored block numbers: 868\n",
      "Your maze solved with DFS algorithm.\n",
      "--- finished 14.203 s---\n"
     ]
    }
   ],
   "source": [
    "solve_maze(map_address=\"mazes/maze_0.csv\", algorithm=\"DFS\")"
   ]
  },
  {
   "cell_type": "markdown",
   "metadata": {},
   "source": [
    "After running the code above and entering it on the screen, you should see the result, which resembles the GIF below."
   ]
  },
  {
   "cell_type": "code",
   "execution_count": 10,
   "metadata": {},
   "outputs": [
    {
     "data": {
      "text/html": [
       "<div style=\"display: flex; justify-content: center;\"> <img src=\"Pics/Animation.gif\" alt=\"Your GIF\" style=\"width: 40%;\"/></div>"
      ],
      "text/plain": [
       "<IPython.core.display.HTML object>"
      ]
     },
     "execution_count": 10,
     "metadata": {},
     "output_type": "execute_result"
    }
   ],
   "source": [
    "gif_path = 'Pics/Animation.gif'\n",
    "html_code = f'<div style=\"display: flex; justify-content: center;\"> <img src=\"{gif_path}\" alt=\"Your GIF\" style=\"width: 40%;\"/></div>'\n",
    "HTML(html_code)"
   ]
  },
  {
   "cell_type": "markdown",
   "metadata": {},
   "source": [
    "As you can see, all of the blocks have been explored using DFS algorithm. So, we need a better algorithm for this maze problem. You can think and devise a solution for this problem at this stage before proceeding.\n",
    "\n",
    "Let's investigate other uninformed search methods. Your task now is to implement Breadth-First Search (BFS) algorithm to solve this maze problem. (Hint: You can simply just change the data structures used in the code provided above to convert DFS to BFS)"
   ]
  },
  {
   "cell_type": "code",
   "execution_count": 11,
   "metadata": {
    "id": "JWLMa4_L4Hh5"
   },
   "outputs": [],
   "source": [
    "########################################################\n",
    "######### implement BFS algorithm (10 Points) ##########\n",
    "########################################################\n",
    "\n",
    "class BFS_Digital_Twin:\n",
    "    def __init__(self, start_pos, goal_pos, grid_dim):\n",
    "        self.start_pos = start_pos\n",
    "        self.goal_pos = goal_pos\n",
    "        self.grid_dim = grid_dim\n",
    "        self.queue = Queue()\n",
    "        self.queue.push(Node(pos=start_pos, parent=None))\n",
    "        \n",
    "    def get_successors(self, x, y):\n",
    "        return [(x+1, y), (x-1, y), (x, y+1), (x, y-1)]\n",
    "\n",
    "    def is_valid_cell(self, pos):\n",
    "        return 0 <= pos[0] <= self.grid_dim[0] and 0 <= pos[1] <= self.grid_dim[1]\n",
    "\n",
    "    def backtrack_solution(self, curr_node):\n",
    "        return self._backtrack(curr_node)\n",
    "\n",
    "    def _backtrack(self, curr_node):\n",
    "        return [] if curr_node.parent is None else self._backtrack(curr_node.parent) + [curr_node.position()]\n",
    "\n",
    "    def update(self, grid):\n",
    "        curr_state = self.queue.pop()\n",
    "        x, y = curr_state.position()\n",
    "        done = False\n",
    "        solution_path = []\n",
    "\n",
    "        for step in self.get_successors(x, y):\n",
    "            if self.is_valid_cell(step) and grid[step[0], step[1]] in [1, 3]: # 1: empty cell has not explored yet, 3: goal cell\n",
    "                self.queue.push(Node(pos=step, parent=curr_state))\n",
    "\n",
    "                if step == self.goal_pos:\n",
    "                    done = True\n",
    "                    solution_path = self.backtrack_solution(curr_state)\n",
    "                    break\n",
    "            \n",
    "            grid[x, y] = 4 # visited\n",
    "\n",
    "        return solution_path, done, grid"
   ]
  },
  {
   "cell_type": "markdown",
   "metadata": {},
   "source": [
    "You can run the code below to see how BFS algorithm works for solving this maze problem."
   ]
  },
  {
   "cell_type": "code",
   "execution_count": 12,
   "metadata": {
    "id": "_3pHSgOowQdC"
   },
   "outputs": [
    {
     "name": "stdout",
     "output_type": "stream",
     "text": [
      "Total empty block numbers: 881\n",
      "Explored block numbers: 358\n",
      "Your maze solved with BFS algorithm.\n",
      "--- finished 5.872 s---\n"
     ]
    }
   ],
   "source": [
    "solve_maze(map_address=\"mazes/maze_0.csv\", algorithm=\"BFS\")"
   ]
  },
  {
   "cell_type": "markdown",
   "metadata": {},
   "source": [
    "It seems that BFS algorithm provides a good solution for our maze problem. Now, let's try implementing the Iterative Deepening Search (IDS) algorithm in the code below. The depth must increase incrementally (one per request to the digital twin) according to the game policy."
   ]
  },
  {
   "cell_type": "code",
   "execution_count": 25,
   "metadata": {},
   "outputs": [],
   "source": [
    "########################################################\n",
    "######### implement IDS algorithm (15 Points) ##########\n",
    "########################################################\n",
    "\n",
    "class IDS_Digital_Twin:\n",
    "    def __init__(self, start_pos, goal_pos, grid_dim):\n",
    "        self.start_pos = start_pos\n",
    "        self.goal_pos = goal_pos\n",
    "        self.grid_dim = grid_dim\n",
    "        self.stack = Stack()\n",
    "        self.stack.push(Node(pos=start_pos, parent=None, cost=0))\n",
    "        self.depth_limit = 5\n",
    "    \n",
    "\n",
    "    def get_successors(self, x, y):\n",
    "        return [(x+1, y), (x-1, y), (x, y+1), (x, y-1)]\n",
    "\n",
    "    def is_valid_cell(self, pos):\n",
    "        return 0 <= pos[0] <= self.grid_dim[0] and 0 <= pos[1] <= self.grid_dim[1]\n",
    "\n",
    "    def backtrack_solution(self, curr_node):\n",
    "        return self._backtrack(curr_node)\n",
    "\n",
    "    def _backtrack(self, curr_node):\n",
    "        return [] if curr_node.parent is None else self._backtrack(curr_node.parent) + [curr_node.position()]\n",
    "\n",
    "    def update(self, grid):\n",
    "        if self.stack.isEmpty():\n",
    "            self.depth_limit += 40 # this should be one, but that takes a lot of time\n",
    "            self.stack.push(Node(pos=self.start_pos, parent=None, cost=0))\n",
    "            for i in range(self.grid_dim[0] + 1):\n",
    "                for j in range(self.grid_dim[1] + 1):\n",
    "                    if grid[i, j] == 4:\n",
    "                        grid[i, j] = 1\n",
    "        curr_state = self.stack.pop()\n",
    "        x, y = curr_state.position()\n",
    "        done = False\n",
    "        solution_path = []\n",
    "\n",
    "\n",
    "        for step in self.get_successors(x, y):\n",
    "            if self.is_valid_cell(step) and grid[step[0], step[1]] in [1, 3] and curr_state.cost < self.depth_limit:\n",
    "                self.stack.push(Node(pos=step, parent=curr_state, cost=curr_state.cost + 1))\n",
    "\n",
    "                if step == self.goal_pos:\n",
    "                    done = True\n",
    "                    solution_path = self.backtrack_solution(curr_state)\n",
    "                    break\n",
    "            \n",
    "            grid[x, y] = 4\n",
    "\n",
    "        return solution_path, done, grid     "
   ]
  },
  {
   "cell_type": "code",
   "execution_count": 26,
   "metadata": {
    "colab": {
     "base_uri": "https://localhost:8080/",
     "height": 298
    },
    "id": "RLNhKM9Hwwzf",
    "outputId": "fb24181f-1ed5-4769-9eea-04b7dba55285"
   },
   "outputs": [
    {
     "name": "stdout",
     "output_type": "stream",
     "text": [
      "Total empty block numbers: 881\n",
      "Explored block numbers: 405\n",
      "Your maze solved with IDS algorithm.\n",
      "--- finished 28.513 s---\n"
     ]
    }
   ],
   "source": [
    "solve_maze(map_address=\"mazes/maze_0.csv\", algorithm=\"IDS\")"
   ]
  },
  {
   "cell_type": "markdown",
   "metadata": {},
   "source": [
    "Question: \n",
    "\n",
    "So far, we have explored three uninformed search methods: DFS, BFS, and IDS. Briefly explain the advantages and disadvantages of each method in the context of the Maze Problem and compare their performance based on your observations (consider both time and memory). Suppose there is two destination points, address specific points based on this scenario."
   ]
  },
  {
   "cell_type": "markdown",
   "metadata": {},
   "source": [
    "Your Answer: DFS explored large number of graph and it took 14 s to find the result. However, BFS explored much fewer number of blocks and finished faster, But we know that it uses a lot of memory (and DFS uses less memory). In IDS code, every time we add 40 to depth limit which should be 1 but that takes a lot of time. Even with adding 40 to depth limit, IDS tooks 28 s to finish (more than the others) and it explored 405 blocks which is almost half of DFS and a bit more that BFS. If we had 2 destination points, BFS could find the optimal one, But DFS could find the non optimal solution. IDS would fined the optimal solution if we update depth limit by 1 (in the code depth limit is 40, in this case it may find the non optimal solution)  \n"
   ]
  },
  {
   "cell_type": "markdown",
   "metadata": {},
   "source": [
    "Question:\n",
    "\n",
    "Provide a simple solution to improve the DFS algorithm's performance in terms of explored block numbers, Based on the game information."
   ]
  },
  {
   "cell_type": "markdown",
   "metadata": {},
   "source": [
    "Your Answer: One solution can be the fact that more actions are in left and down. So we can first add left and down successors to the stack. mabye even adding successors in random helps."
   ]
  },
  {
   "cell_type": "markdown",
   "metadata": {},
   "source": [
    "Now, let's turn our attention to a second maze map, 'maze_1.csv'. solve this maze using the BFS algorithm."
   ]
  },
  {
   "cell_type": "code",
   "execution_count": 27,
   "metadata": {
    "id": "RUAboo1mxNaj"
   },
   "outputs": [
    {
     "name": "stdout",
     "output_type": "stream",
     "text": [
      "Total empty block numbers: 881\n",
      "Explored block numbers: 799\n",
      "Your maze solved with BFS algorithm.\n",
      "--- finished 13.074 s---\n"
     ]
    }
   ],
   "source": [
    "solve_maze(map_address=\"mazes/maze_1.csv\", algorithm=\"BFS\")"
   ]
  },
  {
   "cell_type": "markdown",
   "metadata": {},
   "source": [
    "As you can see, BFS may not always perform optimally, as it can end up exploring a majority of the blocks. Let's proceed by implementing the A-Star algorithm in the next cell."
   ]
  },
  {
   "cell_type": "code",
   "execution_count": 28,
   "metadata": {
    "id": "V5yzYM1exNzp"
   },
   "outputs": [],
   "source": [
    "########################################################\n",
    "######### implement A* algorithm (50 Points) ###########\n",
    "########################################################\n",
    "\n",
    "class A_Star_Digital_Twin:\n",
    "    def __init__(self, start_pos, goal_pos, grid_dim):\n",
    "        self.start_pos = start_pos\n",
    "        self.goal_pos = goal_pos\n",
    "        self.x_goal, self.y_goal = self.goal_pos\n",
    "        self.grid_dim = grid_dim\n",
    "        self.p_queue = PriorityQueue()\n",
    "        x, y = self.start_pos\n",
    "        self.p_queue.push(Node(pos=start_pos, parent=None, cost=0), self.manhattan_dist(x, y))\n",
    "\n",
    "    def manhattan_dist(self, x, y):\n",
    "        return (self.x_goal - x) + (self.y_goal - y)\n",
    "\n",
    "    def get_successors(self, x, y):\n",
    "        return [(x + 1, y), (x - 1, y), (x, y + 1), (x, y - 1)]\n",
    "\n",
    "    def is_valid_cell(self, pos):\n",
    "        return 0 <= pos[0] <= self.grid_dim[0] and 0 <= pos[1] <= self.grid_dim[1]\n",
    "\n",
    "    def backtrack_solution(self, curr_node):\n",
    "        return self._backtrack(curr_node)\n",
    "\n",
    "    def _backtrack(self, curr_node):\n",
    "        return [] if curr_node.parent is None else self._backtrack(curr_node.parent) + [curr_node.position()]\n",
    "\n",
    "    def update(self, grid):\n",
    "        curr_state = self.p_queue.pop()\n",
    "        x, y = curr_state.position()\n",
    "        done = False\n",
    "        solution_path = []\n",
    "\n",
    "        if curr_state.position() == self.goal_pos: #consider that we check a node to be the answer at expand time, not when we see it as a neighbor\n",
    "            done = True\n",
    "            solution_path = self.backtrack_solution(curr_state)\n",
    "\n",
    "\n",
    "        for step in self.get_successors(x, y):\n",
    "            if self.is_valid_cell(step) and grid[step[0], step[1]] in [1, 3]:\n",
    "                xx, yy = step\n",
    "                self.p_queue.update(Node(pos=step, parent=curr_state, cost=curr_state.n_cost() + 1), curr_state.n_cost()\n",
    "                                    + 1 + self.manhattan_dist(xx, yy))\n",
    "            grid[x, y] = 4  \n",
    "\n",
    "        return solution_path, done, grid"
   ]
  },
  {
   "cell_type": "markdown",
   "metadata": {},
   "source": [
    "Now solve the 'maze_1.csv' with your A-star algorithm."
   ]
  },
  {
   "cell_type": "code",
   "execution_count": 32,
   "metadata": {},
   "outputs": [
    {
     "name": "stdout",
     "output_type": "stream",
     "text": [
      "Total empty block numbers: 881\n",
      "Explored block numbers: 613\n",
      "Your maze solved with A_Star algorithm.\n",
      "--- finished 10.050 s---\n"
     ]
    }
   ],
   "source": [
    "solve_maze(map_address=\"mazes/maze_1.csv\", algorithm=\"A_Star\")"
   ]
  },
  {
   "cell_type": "markdown",
   "metadata": {},
   "source": [
    "Question:\n",
    "\n",
    "Explain your heuristic and observation's result. Also, compare the A* method with Uniformed search in the context of the Maze problem."
   ]
  },
  {
   "cell_type": "markdown",
   "metadata": {},
   "source": [
    "Answer: My heuristic is Manhattan distince, which we can see it as the way from starting point to goal if there were no walls (it as admissible and monotonic). We see that number of explored blocks in A* is almost 180 blocks fewer than BFS which showes that A* is much more efficient. We can also observe that A* finishes the maze in less time, So it is faster than BFS (this also make sense because A* explored fewer number of blocks).\n"
   ]
  }
 ],
 "metadata": {
  "colab": {
   "provenance": []
  },
  "kernelspec": {
   "display_name": "Python 3",
   "language": "python",
   "name": "python3"
  },
  "language_info": {
   "codemirror_mode": {
    "name": "ipython",
    "version": 3
   },
   "file_extension": ".py",
   "mimetype": "text/x-python",
   "name": "python",
   "nbconvert_exporter": "python",
   "pygments_lexer": "ipython3",
   "version": "3.8.8"
  },
  "vscode": {
   "interpreter": {
    "hash": "aee8b7b246df8f9039afb4144a1f6fd8d2ca17a180786b69acc140d282b71a49"
   }
  }
 },
 "nbformat": 4,
 "nbformat_minor": 1
}
